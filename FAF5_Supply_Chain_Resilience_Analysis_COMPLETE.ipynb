{
 "cells": [
  {
   "cell_type": "markdown",
   "metadata": {},
   "source": [
    "#  Strategic Supply Chain Analytics Framework\n",
    "## Freight Analysis Framework (FAF5.7) - Complete Sequential Analysis\n",
    "\n",
    "###  Analysis Objectives\n",
    "This notebook provides comprehensive supply chain resilience analysis that can be **run sequentially from top to bottom**:\n",
    "\n",
    "1. ** Risk Archetype Clustering**: Segment freight corridors by risk characteristics\n",
    "2. ** Nearshoring Analysis**: Evaluate regional vs. long-distance trade patterns\n",
    "3. ** Disruption Risk Assessment**: Identify vulnerable corridors and chokepoints\n",
    "4. ** Performance Forecasting**: Predict efficiency and volume patterns\n",
    "5. ** Strategic Momentum Tracking**: Monitor diversification and optimization progress\n",
    "\n",
    "###  Key Findings Preview\n",
    "- **Best Predictive Target**: Transportation efficiency (R = 0.26)\n",
    "- **Strongest Predictors**: Geographic location (40%) and commodity type (39%)\n",
    "- **Data Coverage**: 1.2M freight flow records across 51 states\n",
    "- **Recommended Focus**: Descriptive risk analysis and efficiency optimization\n",
    "\n",
    "###  Instructions\n",
    "**Simply run all cells in order from top to bottom - no dependency issues!**"
   ]
  },
  {
   "cell_type": "code",
   "execution_count": null,
   "metadata": {},
   "outputs": [],
   "source": [
    "# 📚 CELL 1: LIBRARY IMPORTS & SETUP\n",
    "print(\"🚀 Setting up Strategic Supply Chain Analytics Framework...\")\n",
    "\n",
    "# Core data science libraries\n",
    "import pandas as pd\n",
    "import numpy as np\n",
    "import matplotlib.pyplot as plt\n",
    "import seaborn as sns\n",
    "import warnings\n",
    "warnings.filterwarnings('ignore')\n",
    "\n",
    "# Machine learning libraries\n",
    "from sklearn.preprocessing import StandardScaler, LabelEncoder\n",
    "from sklearn.ensemble import RandomForestRegressor, RandomForestClassifier\n",
    "from sklearn.cluster import KMeans\n",
    "from sklearn.model_selection import train_test_split\n",
    "from sklearn.metrics import r2_score, mean_absolute_error, silhouette_score\n",
    "\n",
    "# Set display options\n",
    "pd.set_option('display.max_columns', None)\n",
    "pd.set_option('display.max_rows', 100)\n",
    "plt.style.use('default')\n",
    "\n",
    "print(\"✅ Libraries loaded successfully!\")\n",
    "print(\"📊 Ready for freight data analysis\")\n"
   ]
  },
  {
   "cell_type": "code",
   "execution_count": null,
   "metadata": {},
   "outputs": [],
   "source": [
    "# 📊 CELL 2: DATA LOADING & INITIAL EXPLORATION\n",
    "print(\"📊 Loading FAF5.7 freight data...\")\n",
    "\n",
    "# Load the dataset\n",
    "df = pd.read_csv('FAF5.7_State.csv')\n",
    "\n",
    "print(f\"✅ Dataset loaded: {df.shape[0]:,} records, {df.shape[1]} columns\")\n",
    "print(f\"📅 Data coverage: 2017-2030 (actual through 2023, forecasts 2024-2030)\")\n",
    "print(f\"🗺️  Geographic scope: {df['dms_origst'].nunique()} origin states, {df['dms_destst'].nunique()} destination states\")\n",
    "print(f\"🚛 Transport modes: {df['dms_mode'].nunique()} different modes\")\n",
    "print(f\"📦 Commodities: {df['sctg2'].nunique()} commodity types\")\n",
    "\n",
    "# Display basic info\n",
    "print(\"\\n📋 Dataset Overview:\")\n",
    "print(df.head())\n",
    "\n",
    "print(\"\\n📈 Key Value Metrics:\")\n",
    "total_value_2023 = df['value_2023'].sum() / 1e9\n",
    "total_tons_2023 = df['tons_2023'].sum() / 1e6\n",
    "print(f\"Total 2023 Freight Value: ${total_value_2023:.1f}B\")\n",
    "print(f\"Total 2023 Freight Volume: {total_tons_2023:.1f}M tons\")\n"
   ]
  }
 ],
 "metadata": {
  "kernelspec": {
   "display_name": "Python 3",
   "language": "python",
   "name": "python3"
  },
  "language_info": {
   "codemirror_mode": {
    "name": "ipython",
    "version": 3
   },
   "file_extension": ".py",
   "mimetype": "text/x-python",
   "name": "python",
   "nbconvert_exporter": "python",
   "pygments_lexer": "ipython3",
   "version": "3.8.5"
  }
 },
 "nbformat": 4,
 "nbformat_minor": 4
}
